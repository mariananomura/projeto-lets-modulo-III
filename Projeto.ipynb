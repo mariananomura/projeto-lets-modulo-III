{
 "cells": [
  {
   "cell_type": "code",
   "execution_count": null,
   "metadata": {},
   "outputs": [],
   "source": [
    "'Teste'\n",
    "'alguma coisa'\n",
    "\n",
    "'Oi samira :)'"
   ]
  }
 ],
 "metadata": {
  "kernelspec": {
   "display_name": "Python 3.9.7 ('base')",
   "language": "python",
   "name": "python3"
  },
  "language_info": {
   "name": "python",
   "version": "3.9.7"
  },
  "orig_nbformat": 4,
  "vscode": {
   "interpreter": {
    "hash": "a68946932af67dfebca33dea9f61a5a3bce380c7596b80d6e78689e2c35ba428"
   }
  }
 },
 "nbformat": 4,
 "nbformat_minor": 2
}
